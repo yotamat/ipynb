{
 "cells": [
  {
   "cell_type": "markdown",
   "metadata": {},
   "source": [
    "**Statement of the Problem**\n",
    "\n",
    "Suppose we have two containers $A$ and $B$, with a total of $N$ balls between them. At each time-step a ball is chosen at random, from amongst the $N$ balls, and moved from the container it is in to the second container.\n",
    "\n",
    "Let us mark the total number of balls in container $A$ as $T_A$. Clearly, $T_A$ may be any number between $0$ and $N$. We may therefore allow $T_A$ to be represented by the states $T_0$ through $T_N$, where we drop the subscript $A$. The probability of going from state $T_i$ to state $T_{i-1}$ is equal to $i/N$ and the probability of going from state $T_i$ to $T_{i+1}$ is $1-i/N$.\n",
    "\n",
    "We can calculate the transition matrix for any given N:"
   ]
  },
  {
   "cell_type": "code",
   "execution_count": 44,
   "metadata": {},
   "outputs": [],
   "source": [
    "import numpy as np\n",
    "from numpy.linalg import matrix_power as mp\n",
    "import pylab as plt\n",
    "%matplotlib inline\n",
    "\n",
    "N = 4\n",
    "\n",
    "def create_transition_matrix(N):    \n",
    "    P = np.zeros((N+1,N+1))\n",
    "\n",
    "    for i in range(N+1):\n",
    "        if i == 0:\n",
    "            P[i,i+1] = 1\n",
    "        elif i == N:\n",
    "            P[i,i-1] = 1\n",
    "        else:\n",
    "            P[i,i-1] = i/N\n",
    "            P[i,i+1] = 1 - i/N\n",
    "    \n",
    "    return P\n",
    "\n",
    "def expectation_of_visits(P, visited_state, steps):\n",
    "    Ev = 0\n",
    "    \n",
    "    for k in range(1, steps + 1):\n",
    "        Ev += mp(P,k)[visited_state, visited_state]\n",
    "    \n",
    "    return Ev\n",
    "\n",
    "def expectation_of_visits_for_N(N, visited_state, steps):\n",
    "    P = create_transition_matrix(N)\n",
    "    \n",
    "    return expectation_of_visits(P, visited_state, steps)"
   ]
  },
  {
   "cell_type": "code",
   "execution_count": 45,
   "metadata": {},
   "outputs": [],
   "source": [
    "N = np.arange(1,15)\n",
    "Ev = np.zeros(N.shape)\n",
    "\n",
    "for idx, n in enumerate(N):\n",
    "    Ev[idx] = expectation_of_visits_for_N(n, 0, 10000)"
   ]
  },
  {
   "cell_type": "code",
   "execution_count": 47,
   "metadata": {},
   "outputs": [
    {
     "data": {
      "image/png": "[encoded data removed]",
      "text/plain": [
       "<matplotlib.figure.Figure at 0x90b4b70>"
      ]
     },
     "metadata": {},
     "output_type": "display_data"
    }
   ],
   "source": [
    "plt.plot(N,Ev, 'o')\n",
    "plt.grid()"
   ]
  }
 ],
 "metadata": {
  "kernelspec": {
   "display_name": "Python 3",
   "language": "python",
   "name": "python3"
  },
  "language_info": {
   "codemirror_mode": {
    "name": "ipython",
    "version": 3
   },
   "file_extension": ".py",
   "mimetype": "text/x-python",
   "name": "python",
   "nbconvert_exporter": "python",
   "pygments_lexer": "ipython3",
   "version": "3.6.2"
  }
 },
 "nbformat": 4,
 "nbformat_minor": 2
}
