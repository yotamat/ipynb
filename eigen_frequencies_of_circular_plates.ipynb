{
 "cells": [
  {
   "cell_type": "markdown",
   "metadata": {},
   "source": [
    "According to [1] the transverse vibrational frequencies of a free standing circular plate are given by the following eigen-value equation (1):\n",
    "\n",
    "$\\frac{\\lambda^2J_{n}(\\lambda) + (1 - \\nu)[{\\lambda}J'_{n}(\\lambda) - n^2J_{n}(\\lambda)]}{\\lambda^2I_{n}(\\lambda) - (1 - \\nu)[{\\lambda}I'_{n}(\\lambda) - n^2I_{n}(\\lambda)]}$ = $\\frac{\\lambda^3I'_{n}(\\lambda) + (1 - \\nu)n^2[{\\lambda}J'_{n}(\\lambda) - J_{n}(\\lambda)]}{\\lambda^3I'_{n}(\\lambda) - (1 - \\nu)n^2[{\\lambda}I'_{n}(\\lambda) - I_{n}(\\lambda)]}$\n",
    "\n",
    "J - Bessel function of the first kind.\n",
    "\n",
    "I - Modified Bessel function of the first kind. \n",
    "\n",
    "$\\lambda$ - Is a unitless parameter proportional to physical constants of the system and the radius at which the vibrations are evaluated.\n",
    "\n",
    "$\\nu$ - Is Poisson's ratio.\n",
    "\n",
    "\n",
    "Unfortunately, equation (1) seems to be unstable numerically (or maybe incorrect? it looks nowhere near the approximation...) and I haven't been able to compute solutions to it. However, the same reference gives an approximate version of (1), which is accurate for $\\lambda >> n$. This is given as (2)\n",
    "\n",
    "\n",
    "$\\frac{J_n(\\lambda)}{J'_n(\\lambda)} = \\frac{[\\lambda^2 + 2(1 - \\nu)n^2][I_n(\\lambda)/I_n'(\\lambda)] - 2\\lambda(1 - \\nu)}{\\lambda^2 - 2(1 - \\nu)n^2}$\n",
    "\n",
    "\n",
    "This is the equation we solve to find the eigen-frequencies.\n",
    "\n",
    "\n",
    "References:\n",
    "\n",
    "[1] Vibration of Plates, Leissa, NASA SP-160\n",
    "https://ntrs.nasa.gov/archive/nasa/casi.ntrs.nasa.gov/19700009156.pdf\n",
    "equation 2.14 & 2.15"
   ]
  },
  {
   "cell_type": "code",
   "execution_count": 1,
   "metadata": {},
   "outputs": [],
   "source": [
    "import numpy as np\n",
    "import matplotlib.pyplot as plt\n",
    "import scipy.special as sps\n",
    "import scipy.optimize as spo\n",
    "from scipy.signal import find_peaks_cwt\n",
    "%matplotlib notebook"
   ]
  },
  {
   "cell_type": "code",
   "execution_count": 2,
   "metadata": {},
   "outputs": [],
   "source": [
    "# Bessel function of the first kind of order v, argument z, n'th derivative: jvp(v,z,n)\n",
    "jvp = sps.jvp\n",
    "\n",
    "# Modified Bessel function of the first kind of order v, argument z, n'th derivative: ivp(v,z,n)\n",
    "ivp = sps.ivp\n",
    "\n",
    "# Build the RHS and LHS of eq (2.14):\n",
    "#noml = lambda ll, n, nu: (ll**2)*jvp(n, ll, 0) + (1 - nu)*(ll*jvp(n, ll, 1) - jvp(n, ll, 0)*n**2)\n",
    "#denoml = lambda ll, n, nu: (ll**2)*ivp(n, ll, 0) - (1 - nu)*(ll*ivp(n, ll, 1) - ivp(n, ll, 0)*n**2)\n",
    "#nomr = lambda ll, n, nu: (ll**3)*ivp(n, ll, 1) + (1 - nu)*(ll*jvp(n, ll, 1) - jvp(n, ll, 0))*n**2\n",
    "#denomr = lambda ll, n, nu: (ll**3)*ivp(n, ll, 1) - (1 - nu)*(ll*ivp(n, ll, 1) - ivp(n, ll, 0))*n**2\n",
    "#lhs = lambda ll, n, nu: noml(ll,n,nu)*denomr(ll,n,nu)\n",
    "#rhs = lambda ll, n, nu: nomr(ll,n,nu)*denoml(ll,n,nu)\n",
    "\n",
    "# Build the RHS and LHS of eq (2.15):\n",
    "lhs = lambda ll, n, nu: jvp(n,ll,0)*(ll**2 - 2*(1 - nu)*n**2)\n",
    "rhs = lambda ll, n, nu: jvp(n,ll,1)*((ll**2 + 2*(1 - nu)*n**2)*(ivp(n,ll,0)/ivp(n,ll,1)) - 2*ll*(1 - nu))\n",
    "\n",
    "# And finally the eigen-value equation is lhs - rhs = 0\n",
    "eigen_equation = lambda ll, n, nu: lhs(ll, n, nu) - rhs(ll, n, nu)\n"
   ]
  },
  {
   "cell_type": "code",
   "execution_count": 3,
   "metadata": {
    "scrolled": true
   },
   "outputs": [
    {
     "data": {
      "text/plain": [
       "<IPython.core.display.Javascript object>"
      ]
     },
     "execution_count": 0,
     "metadata": {},
     "output_type": "execute_result"
    },
    {
     "data": {
      "text/html": [
       "<div id='b929237d-0f9b-48d9-b754-4e15c1db457a'></div>"
      ],
      "text/plain": [
       "<div id='b929237d-0f9b-48d9-b754-4e15c1db457a'></div>"
      ]
     },
     "execution_count": 0,
     "metadata": {},
     "output_type": "execute_result"
    }
   ],
   "source": [
    "lam = np.linspace(1, 40, 1000)\n",
    "N = 1\n",
    "nu = 0.33\n",
    "\n",
    "\n",
    "make_roots_pop = 1/eigen_equation(lam, N, nu)**2\n",
    "suspected_roots = find_peaks_cwt(make_roots_pop, np.arange(10, 40))\n",
    "\n",
    "f, (ax1, ax2) = plt.subplots(2, 1, sharex=True)\n",
    "ax1.plot(lam, eigen_equation(lam, N, nu))\n",
    "ax1.grid()\n",
    "ax2.semilogy(lam, make_roots_pop)\n",
    "for x in suspected_roots:\n",
    "    ax2.axvline(lam[x], ls='--')\n",
    "ax2.grid()\n",
    "\n"
   ]
  },
  {
   "cell_type": "code",
   "execution_count": 4,
   "metadata": {},
   "outputs": [
    {
     "name": "stdout",
     "output_type": "stream",
     "text": [
      "[    1.78719654    20.58235922    59.88200642   119.01987992   197.93179557\n   296.598987     415.01412435   553.17375348   711.07603139   888.71988406\n  1086.10464292  1303.22986984  1540.09526567]\n[  1.17983553e-08  -1.38359280e-09   3.51771945e-10  -2.98427949e-12\n   1.00399689e-11  -1.21744392e-10   7.25734139e-10  -7.10542736e-14\n   9.17168563e-11  -6.31104058e-10   3.97818667e-10  -2.49741561e-10\n   4.26325641e-12]\n"
     ]
    }
   ],
   "source": [
    "sols = spo.fsolve(lambda x: eigen_equation(x,N,nu), lam[suspected_roots])\n",
    "print(np.sort(sols)**2)\n",
    "print(eigen_equation(sols, N, nu))"
   ]
  }
 ],
 "metadata": {
  "kernelspec": {
   "display_name": "Python 3",
   "language": "python",
   "name": "python3"
  },
  "language_info": {
   "codemirror_mode": {
    "name": "ipython",
    "version": 3
   },
   "file_extension": ".py",
   "mimetype": "text/x-python",
   "name": "python",
   "nbconvert_exporter": "python",
   "pygments_lexer": "ipython3",
   "version": "3.6.3"
  }
 },
 "nbformat": 4,
 "nbformat_minor": 2
}
