{
 "cells": [
  {
   "cell_type": "markdown",
   "metadata": {},
   "source": [
    "According to [1] the transverse vibrational frequencies of a free standing circular plate are given by the following eigen-value equation (1):\n",
    "\n",
    "$\\frac{\\lambda^2J_{n}(\\lambda) + (1 - \\nu)[{\\lambda}J'_{n}(\\lambda) - n^2J_{n}(\\lambda)]}{\\lambda^2I_{n}(\\lambda) - (1 - \\nu)[{\\lambda}I'_{n}(\\lambda) - n^2I_{n}(\\lambda)]}$ = $\\frac{\\lambda^3I'_{n}(\\lambda) + (1 - \\nu)n^2[{\\lambda}J'_{n}(\\lambda) - J_{n}(\\lambda)]}{\\lambda^3I'_{n}(\\lambda) - (1 - \\nu)n^2[{\\lambda}I'_{n}(\\lambda) - I_{n}(\\lambda)]}$\n",
    "\n",
    "J - Bessel function of the first kind.\n",
    "\n",
    "I - Modified Bessel function of the first kind. \n",
    "\n",
    "$\\lambda$ - Is a unitless parameter proportional to physical constants of the system and the radius at which the vibrations are evaluated.\n",
    "\n",
    "$\\nu$ - Is Poisson's ratio.\n",
    "\n",
    "\n",
    "Unfortunately, equation (1) seems to be unstable numerically and difficult to solve. The same reference gives an approximate version of (1), which is accurate for $\\lambda >> n$\n",
    "\n",
    "\n",
    "Taken from:\n",
    "\n",
    "[1] Vibration of Plates, Leissa, NASA SP-160\n",
    "https://ntrs.nasa.gov/archive/nasa/casi.ntrs.nasa.gov/19700009156.pdf\n",
    "equation 2.14 & 2.15"
   ]
  },
  {
   "cell_type": "code",
   "execution_count": 1,
   "metadata": {},
   "outputs": [],
   "source": [
    "import numpy as np\n",
    "import pylab as plt\n",
    "import scipy.special as sps\n",
    "import scipy.optimize as spo\n",
    "from scipy.signal import find_peaks_cwt\n",
    "%matplotlib inline"
   ]
  },
  {
   "cell_type": "code",
   "execution_count": 2,
   "metadata": {},
   "outputs": [],
   "source": [
    "jvp = sps.jvp # First kind of order v argument z, n'th derivative jvp(v,z,n)\n",
    "ivp = sps.ivp # Second kind of order v argument z, n'th derivative jvp(v,z,n)\n",
    "\n",
    "# Build the RHS and LHS of eq (2.14):\n",
    "#noml = lambda ll, n, nu: (ll**2)*jvp(n, ll, 0) + (1 - nu)*(ll*jvp(n, ll, 1) - jvp(n, ll, 0)*n**2)\n",
    "#denoml = lambda ll, n, nu: (ll**2)*ivp(n, ll, 0) - (1 - nu)*(ll*ivp(n, ll, 1) - ivp(n, ll, 0)*n**2)\n",
    "#nomr = lambda ll, n, nu: (ll**3)*ivp(n, ll, 1) + (1 - nu)*(ll*jvp(n, ll, 1) - jvp(n, ll, 0))*n**2\n",
    "#denomr = lambda ll, n, nu: (ll**3)*ivp(n, ll, 1) - (1 - nu)*(ll*ivp(n, ll, 1) - ivp(n, ll, 0))*n**2\n",
    "\n",
    "#lhs = lambda ll, n, nu: noml(ll,n,nu)*denomr(ll,n,nu)\n",
    "#rhs = lambda ll, n, nu: nomr(ll,n,nu)*denoml(ll,n,nu)\n",
    "\n",
    "lhs = lambda ll, n, nu: jvp(n,ll,0)*(ll**2 - 2*(1 - nu)*n**2)\n",
    "rhs = lambda ll, n, nu: jvp(n,ll,1)*((ll**2 + 2*(1 - nu)*n**2)*(ivp(n,ll,0)/ivp(n,ll,1)) - 2*ll*(1 - nu))\n",
    "\n",
    "eigen_equation = lambda ll, n, nu: lhs(ll, n, nu) - rhs(ll, n, nu)\n"
   ]
  },
  {
   "cell_type": "code",
   "execution_count": 3,
   "metadata": {
    "scrolled": true
   },
   "outputs": [
    {
     "name": "stdout",
     "output_type": "stream",
     "text": [
      "[  1.34834835   4.54154154   7.76376376  10.92792793  14.09209209\n",
      "  17.22722723  20.39139139  23.52652653  26.69069069  29.82582583]\n"
     ]
    },
    {
     "data": {
      "image/png": "[encoded data removed]",
      "text/plain": [
       "<matplotlib.figure.Figure at 0x95ee6a0>"
      ]
     },
     "metadata": {},
     "output_type": "display_data"
    }
   ],
   "source": [
    "lam = np.linspace(1,30,1000)\n",
    "N = 1\n",
    "nu = 0.33\n",
    "\n",
    "plt.subplot(3,1,1)\n",
    "plt.grid()\n",
    "plt.plot(lam, eigen_equation(lam, N, nu))\n",
    "\n",
    "make_roots_pop = 1/eigen_equation(lam, N, nu)**2\n",
    "plt.subplot(3,1,2)\n",
    "plt.semilogy(lam, make_roots_pop)\n",
    "plt.grid()\n",
    "\n",
    "suspected_roots = find_peaks_cwt(make_roots_pop, np.arange(10,30))\n",
    "print(lam[suspected_roots])\n",
    "\n"
   ]
  },
  {
   "cell_type": "code",
   "execution_count": 4,
   "metadata": {},
   "outputs": [
    {
     "name": "stdout",
     "output_type": "stream",
     "text": [
      "[   1.78719672   20.58235922   59.88200653  119.01987992  197.93179558\n",
      "  296.598987    415.01412434  553.17375348  711.07603138  888.71988406]\n",
      "[  1.14952437e-07   1.24980026e-10   1.56873785e-07  -8.96159591e-09\n",
      "   1.25947608e-08   2.98811642e-10  -7.01530212e-09   5.73571413e-10\n",
      "  -1.30468578e-08   4.34258141e-09]\n"
     ]
    }
   ],
   "source": [
    "sols = spo.fsolve(lambda x: eigen_equation(x,N,nu), lam[suspected_roots])\n",
    "print(np.sort(sols)**2)\n",
    "print(eigen_equation(sols, N, nu))"
   ]
  }
 ],
 "metadata": {
  "kernelspec": {
   "display_name": "Python 3",
   "language": "python",
   "name": "python3"
  },
  "language_info": {
   "codemirror_mode": {
    "name": "ipython",
    "version": 3
   },
   "file_extension": ".py",
   "mimetype": "text/x-python",
   "name": "python",
   "nbconvert_exporter": "python",
   "pygments_lexer": "ipython3",
   "version": "3.6.3"
  }
 },
 "nbformat": 4,
 "nbformat_minor": 2
}
